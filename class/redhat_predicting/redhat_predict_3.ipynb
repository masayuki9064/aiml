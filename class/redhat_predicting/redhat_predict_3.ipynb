{
 "cells": [
  {
   "cell_type": "markdown",
   "metadata": {},
   "source": [
    "# redhat_predict"
   ]
  },
  {
   "cell_type": "markdown",
   "metadata": {},
   "source": [
    "# import"
   ]
  },
  {
   "cell_type": "code",
   "execution_count": null,
   "metadata": {},
   "outputs": [],
   "source": [
    "import numpy as np\n",
    "import pandas as pd\n",
    "import tqdm\n",
    "import os\n",
    "from collections import deque\n",
    "from collections import Counter\n",
    "import codecs\n",
    "import copy\n",
    "from sklearn.metrics import confusion_matrix\n",
    "import sys\n",
    "from platform import python_version\n",
    "from datetime import datetime\n",
    "import time\n",
    "import shutil\n",
    "from sklearn.preprocessing import OneHotEncoder\n",
    "import csv\n",
    "from sklearn.ensemble import RandomForestClassifier\n",
    "from sklearn.metrics import roc_auc_score, f1_score\n",
    "from sklearn.tree import DecisionTreeClassifier\n",
    "from sklearn.model_selection import train_test_split\n",
    "from sklearn.ensemble import ExtraTreesClassifier, RandomForestClassifier, VotingClassifier\n",
    "from sklearn.pipeline import Pipeline\n",
    "from sklearn.preprocessing import MinMaxScaler\n",
    "from sklearn.linear_model import LogisticRegression"
   ]
  },
  {
   "cell_type": "markdown",
   "metadata": {},
   "source": [
    "# environment"
   ]
  },
  {
   "cell_type": "code",
   "execution_count": null,
   "metadata": {},
   "outputs": [],
   "source": [
    "print(python_version())"
   ]
  },
  {
   "cell_type": "code",
   "execution_count": null,
   "metadata": {},
   "outputs": [],
   "source": [
    "sys.getdefaultencoding()"
   ]
  },
  {
   "cell_type": "code",
   "execution_count": null,
   "metadata": {},
   "outputs": [],
   "source": [
    "%autosave 0"
   ]
  },
  {
   "cell_type": "code",
   "execution_count": null,
   "metadata": {},
   "outputs": [],
   "source": [
    "#最大表示列数の指定（ここでは2000列を指定）\n",
    "pd.set_option('display.max_columns', 2000)"
   ]
  },
  {
   "cell_type": "code",
   "execution_count": null,
   "metadata": {},
   "outputs": [],
   "source": [
    "#最大表示行数の指定（ここでは200行を指定）\n",
    "pd.set_option('display.max_rows', 50)"
   ]
  },
  {
   "cell_type": "markdown",
   "metadata": {},
   "source": [
    "# define"
   ]
  },
  {
   "cell_type": "code",
   "execution_count": null,
   "metadata": {},
   "outputs": [],
   "source": [
    "# n_estimators:ここを増やすと精度は上がるが遅い。。。\n",
    "ESTIMATOR_NUM=10\n",
    "RANDOM_STATE_VAL = 0\n",
    "target_col_name = \"outcome\"\n",
    "id_col_name = \"activity_id\"\n",
    "drop_columns = \"date\""
   ]
  },
  {
   "cell_type": "markdown",
   "metadata": {},
   "source": [
    "# function"
   ]
  },
  {
   "cell_type": "code",
   "execution_count": null,
   "metadata": {},
   "outputs": [],
   "source": [
    "def dispalyDf(readDf, dispFlag, row_num, dispLabel):\n",
    "    print(\"========================= {} =========================\".format(dispLabel))\n",
    "    row_num , col_num = np.shape(readDf)\n",
    "    print(\"row_num = {}, col_num = {}\".format(row_num, col_num))\n",
    "    if dispFlag:\n",
    "        display(readDf.head(row_num))\n",
    "    print(\"++++++ None Count All++++++\")\n",
    "    print(readDf.isnull().values.sum())\n",
    "    print(\"++++++ None Count ++++++\")\n",
    "    print(readDf.isnull().sum())\n",
    "    print(\"++++++ Col Type ++++++\")\n",
    "    print(readDf.dtypes)\n",
    "    print(\"++++++ Unique By Col（Noneは含まないので注意） ++++++\")\n",
    "    for col_name in readDf.columns.tolist():\n",
    "        print(\"{} : {}\".format(col_name, readDf[col_name].nunique()))"
   ]
  },
  {
   "cell_type": "markdown",
   "metadata": {},
   "source": [
    "# process"
   ]
  },
  {
   "cell_type": "code",
   "execution_count": null,
   "metadata": {},
   "outputs": [],
   "source": [
    "act_train_read_Df = pd.read_csv('input/act_train.csv')\n",
    "act_test_read_Df = pd.read_csv('input/act_test.csv')\n",
    "people_read_Df = pd.read_csv('input/people.csv')"
   ]
  },
  {
   "cell_type": "code",
   "execution_count": null,
   "metadata": {},
   "outputs": [],
   "source": [
    "act_train_Df = act_train_read_Df.copy()\n",
    "act_test_Df = act_test_read_Df.copy()\n",
    "people_Df = people_read_Df.copy()\n",
    "del act_train_read_Df, act_test_read_Df, people_read_Df"
   ]
  },
  {
   "cell_type": "code",
   "execution_count": null,
   "metadata": {},
   "outputs": [],
   "source": [
    "dispalyDf(act_train_Df, True, 10, \"act_train_Df\")"
   ]
  },
  {
   "cell_type": "code",
   "execution_count": null,
   "metadata": {},
   "outputs": [],
   "source": [
    "dispalyDf(act_test_Df, True, 10, \"act_test_Df\")"
   ]
  },
  {
   "cell_type": "code",
   "execution_count": null,
   "metadata": {},
   "outputs": [],
   "source": [
    "dispalyDf(people_Df, True, 10, \"people_Df\")"
   ]
  },
  {
   "cell_type": "code",
   "execution_count": null,
   "metadata": {},
   "outputs": [],
   "source": [
    "################################################"
   ]
  },
  {
   "cell_type": "code",
   "execution_count": null,
   "metadata": {},
   "outputs": [],
   "source": [
    "# train:データのDataFrameと、ターゲットのデータフレームに分ける。\n",
    "train_target_Ser = act_train_Df[target_col_name]\n",
    "act_train_Df = act_train_Df.loc[:,[col_name for col_name in act_train_Df.columns.tolist() if col_name not in [id_col_name,target_col_name]]]\n",
    "print(set(train_target_Ser))"
   ]
  },
  {
   "cell_type": "code",
   "execution_count": null,
   "metadata": {},
   "outputs": [],
   "source": [
    "# test:idとデータのDataFrameを抽出。\n",
    "test_id_Df = act_test_Df.loc[:,[id_col_name]]\n",
    "act_test_Df = act_test_Df.loc[:,[col_name for col_name in act_test_Df.columns.tolist() if col_name != id_col_name]]"
   ]
  },
  {
   "cell_type": "code",
   "execution_count": null,
   "metadata": {},
   "outputs": [],
   "source": []
  },
  {
   "cell_type": "code",
   "execution_count": null,
   "metadata": {},
   "outputs": [],
   "source": []
  },
  {
   "cell_type": "code",
   "execution_count": null,
   "metadata": {},
   "outputs": [],
   "source": [
    "###### 前処理 ######\n",
    "def getBeroreProcessDf(input_Df, drop_columns):\n",
    "    retDf = input_Df.copy()\n",
    "    retDf = retDf.drop(drop_columns, axis=1)\n",
    "    \n",
    "    retDf['people_id'] = retDf['people_id'].apply(lambda x: x.split('_')[1])\n",
    "\n",
    "    columns = [col_name for col_name in retDf.columns.tolist() if col_name != 'people_id']\n",
    "    \n",
    "    for col_name in columns:\n",
    "        if retDf[col_name].dtype == object:\n",
    "            # 文字列のカラムの加工処理\n",
    "            retDf[col_name] = retDf[col_name].fillna('type 0')\n",
    "            retDf[col_name] = retDf[col_name].apply(lambda x: x.split(' ')[1])\n",
    "            \n",
    "        # int64に変換する。\n",
    "        retDf[col_name] = pd.to_numeric(retDf[col_name])\n",
    "    return retDf\n",
    "    "
   ]
  },
  {
   "cell_type": "code",
   "execution_count": null,
   "metadata": {},
   "outputs": [],
   "source": [
    "act_train_Df_2 = getBeroreProcessDf(act_train_Df, drop_columns)"
   ]
  },
  {
   "cell_type": "code",
   "execution_count": null,
   "metadata": {},
   "outputs": [],
   "source": [
    "dispalyDf(act_train_Df_2, True, 10, \"act_train_Df_2\")"
   ]
  },
  {
   "cell_type": "code",
   "execution_count": null,
   "metadata": {},
   "outputs": [],
   "source": [
    "act_test_Df_2 = getBeroreProcessDf(act_test_Df, drop_columns)"
   ]
  },
  {
   "cell_type": "code",
   "execution_count": null,
   "metadata": {},
   "outputs": [],
   "source": [
    "dispalyDf(act_test_Df_2, True, 10, \"act_test_Df_2\")"
   ]
  },
  {
   "cell_type": "code",
   "execution_count": null,
   "metadata": {},
   "outputs": [],
   "source": [
    "people_Df_2 = getBeroreProcessDf(people_Df, drop_columns)"
   ]
  },
  {
   "cell_type": "code",
   "execution_count": null,
   "metadata": {},
   "outputs": [],
   "source": [
    "dispalyDf(people_Df_2, True, 10, \"people_Df_2\")"
   ]
  },
  {
   "cell_type": "code",
   "execution_count": null,
   "metadata": {},
   "outputs": [],
   "source": [
    "train_features = act_train_Df_2.merge(people_Df_2, how='left', on='people_id')"
   ]
  },
  {
   "cell_type": "code",
   "execution_count": null,
   "metadata": {},
   "outputs": [],
   "source": [
    "dispalyDf(train_features, True, 10, \"train_features\")"
   ]
  },
  {
   "cell_type": "code",
   "execution_count": null,
   "metadata": {},
   "outputs": [],
   "source": [
    "test_features = act_test_Df_2.merge(people_Df_2, how='left', on='people_id')"
   ]
  },
  {
   "cell_type": "code",
   "execution_count": null,
   "metadata": {},
   "outputs": [],
   "source": [
    "dispalyDf(test_features, True, 10, \"test_features\")"
   ]
  },
  {
   "cell_type": "code",
   "execution_count": null,
   "metadata": {},
   "outputs": [],
   "source": []
  },
  {
   "cell_type": "code",
   "execution_count": null,
   "metadata": {},
   "outputs": [],
   "source": [
    "# train-test間でカラムが一致しているかチェック\n",
    "if train_features.columns.tolist() != train_features.columns.tolist():\n",
    "    raise Exception(\"columns Not Match!!\")"
   ]
  },
  {
   "cell_type": "code",
   "execution_count": null,
   "metadata": {},
   "outputs": [],
   "source": [
    "# hold-out\n",
    "X_train, X_test, y_train, y_test = train_test_split(train_features, train_target_Ser, test_size=0.2, random_state=RANDOM_STATE_VAL)"
   ]
  },
  {
   "cell_type": "code",
   "execution_count": null,
   "metadata": {},
   "outputs": [],
   "source": [
    "#### 学習 ####\n",
    "ETC = ExtraTreesClassifier()\n",
    "RFC = RandomForestClassifier(n_estimators=ESTIMATOR_NUM, random_state=RANDOM_STATE_VAL)\n",
    "DTC = DecisionTreeClassifier()\n",
    "LOG = LogisticRegression(penalty='l2', C=1.5, random_state=RANDOM_STATE_VAL,max_iter=120,\n",
    "                        solver=\"liblinear\")\n",
    "\n",
    "\n",
    "# 既にある程度高い精度を持つ異なるタイプの学習器（たとえばRandomForest、LogisticRegressionと\n",
    "# GausianNB(ナイーブベース分類器)など）の出した結果を多数決もしくは確率平均で決めるというもの。\n",
    "VCLASS = VotingClassifier(\n",
    "    estimators=[\n",
    "        ('etc',ETC),\n",
    "        ('rfc',RFC),\n",
    "        ('dtc',DTC),\n",
    "        ('log',LOG),\n",
    "               ],\n",
    "    voting='soft')\n",
    "pipeline = Pipeline([\n",
    "                     ('MinMaxScaler', MinMaxScaler()),   #MinMaxScaler: 正規化（最大1, 最小0）\n",
    "                     ('VotingClassifier', VCLASS)\n",
    "])\n",
    "                     \n",
    "pipeline.fit(X_train, y_train)"
   ]
  },
  {
   "cell_type": "code",
   "execution_count": null,
   "metadata": {},
   "outputs": [],
   "source": [
    "pred_score = roc_auc_score(y_test,\n",
    "                           pipeline.predict_proba(X_test)[:,1])\n",
    "print(\"auc : {}\".format(pred_score))"
   ]
  },
  {
   "cell_type": "code",
   "execution_count": null,
   "metadata": {},
   "outputs": [],
   "source": [
    "pred_score = f1_score(y_test,\n",
    "                           pipeline.predict(X_test), pos_label=1)\n",
    "print(\"f1 : {}\".format(pred_score))"
   ]
  },
  {
   "cell_type": "code",
   "execution_count": null,
   "metadata": {},
   "outputs": [],
   "source": [
    "#### 予測 ####\n",
    "test_proba = pipeline.predict_proba(test_features)\n",
    "print(test_proba[:10])\n",
    "target_Df = pd.DataFrame(\n",
    "    {\n",
    "        target_col_name: test_proba[:,1] \n",
    "    })"
   ]
  },
  {
   "cell_type": "code",
   "execution_count": null,
   "metadata": {},
   "outputs": [],
   "source": [
    "output_Df = test_id_Df.join(target_Df)"
   ]
  },
  {
   "cell_type": "code",
   "execution_count": null,
   "metadata": {},
   "outputs": [],
   "source": [
    "dispalyDf(output_Df, True, 10, \"output_Df\")"
   ]
  },
  {
   "cell_type": "code",
   "execution_count": null,
   "metadata": {},
   "outputs": [],
   "source": [
    "# ディレクトリなければ作る\n",
    "output_dir_path = os.path.join(os.getcwd(), 'output')\n",
    "print(output_dir_path)\n",
    "if not os.path.exists(output_dir_path):\n",
    "    os.makedirs(output_dir_path) "
   ]
  },
  {
   "cell_type": "code",
   "execution_count": null,
   "metadata": {},
   "outputs": [],
   "source": [
    "# 出力\n",
    "output_Df.to_csv('output/submission.csv',\n",
    "                 sep=\",\",\n",
    "                 header=True,\n",
    "                 index=False,\n",
    "                 mode=\"w\",\n",
    "                 encoding=\"utf-8\",\n",
    "                 line_terminator=\"\\n\"\n",
    ")"
   ]
  },
  {
   "cell_type": "code",
   "execution_count": null,
   "metadata": {},
   "outputs": [],
   "source": []
  },
  {
   "cell_type": "raw",
   "metadata": {},
   "source": [
    "####################################\n",
    "##### 次元削減(特徴量選択) を使用する\n",
    "##### ↓特徴量選択(LogisticRegression)\n",
    "####################################\n",
    "def getSelectorFeature(inputFeatureDf,y_Df,feature_num, selector_step):\n",
    "    # 特徴量因子の重要度を推定する分類器をRandomForestClassifierに設定\n",
    "    # 最終的に残す特徴量をconfig.iniに定義している\n",
    "    # 0未満 の場合はNoneに設定する。\n",
    "    # 1回のstepで削除する次元数は5%ずつとする\n",
    "    \n",
    "    print(\"特徴量選択数 = \",feature_num)\n",
    "    if(feature_num < 0):\n",
    "        # デフォルト値\n",
    "        print(\"n_features_to_select = None に設定\")\n",
    "        feature_num = None\n",
    "    elif feature_num > len(inputFeatureDf.columns.tolist()):\n",
    "        print (\"feature_num({}) is Over colnum({})\".format(feature_num, len(inputFeatureDf.columns.tolist())))\n",
    "        # 次元削減せずに返却する\n",
    "        return inputFeatureDf\n",
    "    \n",
    "    # 特徴量選択\n",
    "    # step:特徴量削除の速度。一度の再帰処理により指定ステップ分の特徴量が消滅する。\n",
    "    selector = RFE(estimator=LogisticRegression(penalty='l2', C=1.5, random_state=RANDOM_STATE_VAL, max_iter=120,\n",
    "                                           solver='liblinear'),\n",
    "                   n_features_to_select=feature_num,\n",
    "                   step=selector_step)\n",
    "    selector.fit(inputFeatureDf,y_Df.values.ravel())\n",
    "    #selector.fit(inputFeatureDf, y_Df.iloc[:,0])\n",
    "\n",
    "    # 削除対象配列(Falseが削除対象)\n",
    "    selFlagArray = selector.support_\n",
    "    \n",
    "    # 現状のカラム名を取得\n",
    "    columnIndex = inputFeatureDf.columns\n",
    "    \n",
    "    # 削除対象カラム名リスト\n",
    "    drop_column_list = list()\n",
    "    # 削除対象配列 でループ(i=0,1,2,・・・)\n",
    "    print(len(selFlagArray))\n",
    "    for i in range(len(selFlagArray)):\n",
    "        # Falseの場合に、削除対象リストに追加\n",
    "        if(selFlagArray[i] == False):\n",
    "            drop_column_list.append(columnIndex[i])\n",
    "\n",
    "    # 不要な列削除\n",
    "    #print(\"削除対象カラム = \" , drop_column_list)\n",
    "    inputFeatureNewDf = inputFeatureDf.drop(drop_column_list, axis=1)\n",
    "    \n",
    "\n",
    "    return inputFeatureNewDf\n"
   ]
  },
  {
   "cell_type": "raw",
   "metadata": {},
   "source": [
    "# test用のカラムのDataFrame\n",
    "def getAdjustTestColDf(inputDf, train_col_list):\n",
    "    not_enough_col_list = set(train_col_list) - set(inputDf.columns.tolist())\n",
    "    print(\"# trainに有ってtestにないカラム名のリスト\")\n",
    "    print(\"{} : {}\".format(len(not_enough_col_list), not_enough_col_list))\n",
    "        \n",
    "    dataLen = len(inputDf)\n",
    "        \n",
    "    retDf = inputDf.join(\n",
    "        pd.DataFrame({col_name : [0]*dataLen  for col_name  in not_enough_col_list },\n",
    "                     dtype=np.float, columns=not_enough_col_list)\n",
    "    ).loc[:, train_col_list]\n",
    "    \n",
    "    # カラムリストが一致するかチェック\n",
    "    if retDf.columns.tolist() != train_col_list:\n",
    "        raise Exception(\"col_name_list not Match train and test.\")\n",
    "\n",
    "    # データ行数が一致するかチェック\n",
    "    chkNum(\"dataLen\", dataLen, \"retDf\", len(retDf))\n",
    "\n",
    "    return retDf"
   ]
  },
  {
   "cell_type": "code",
   "execution_count": null,
   "metadata": {},
   "outputs": [],
   "source": []
  },
  {
   "cell_type": "code",
   "execution_count": null,
   "metadata": {},
   "outputs": [],
   "source": [
    "########################################################"
   ]
  },
  {
   "cell_type": "code",
   "execution_count": null,
   "metadata": {},
   "outputs": [],
   "source": [
    "raise Exception(\"END♪\")"
   ]
  },
  {
   "cell_type": "code",
   "execution_count": null,
   "metadata": {},
   "outputs": [],
   "source": [
    "########################################################"
   ]
  }
 ],
 "metadata": {
  "kernelspec": {
   "display_name": "Python 3",
   "language": "python",
   "name": "python3"
  },
  "language_info": {
   "codemirror_mode": {
    "name": "ipython",
    "version": 3
   },
   "file_extension": ".py",
   "mimetype": "text/x-python",
   "name": "python",
   "nbconvert_exporter": "python",
   "pygments_lexer": "ipython3",
   "version": "3.7.4"
  }
 },
 "nbformat": 4,
 "nbformat_minor": 2
}
