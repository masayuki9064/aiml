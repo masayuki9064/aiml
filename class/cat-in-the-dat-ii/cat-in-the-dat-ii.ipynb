{
 "cells": [
  {
   "cell_type": "markdown",
   "metadata": {},
   "source": [
    "# cat-in-the-dat-ii"
   ]
  },
  {
   "cell_type": "markdown",
   "metadata": {},
   "source": [
    "# import"
   ]
  },
  {
   "cell_type": "code",
   "execution_count": null,
   "metadata": {},
   "outputs": [],
   "source": [
    "import numpy as np\n",
    "import pandas as pd\n",
    "import tqdm\n",
    "import os\n",
    "from collections import deque\n",
    "\n",
    "import codecs\n",
    "import copy\n",
    "from sklearn.metrics import confusion_matrix\n",
    "import sys\n",
    "from platform import python_version\n",
    "\n",
    "import shutil\n",
    "from sklearn.preprocessing import OneHotEncoder\n",
    "import csv\n",
    "from platform import python_version\n",
    "from sklearn.model_selection import train_test_split\n",
    "\n",
    "from sklearn.preprocessing import StandardScaler\n",
    "from sklearn.ensemble import RandomForestClassifier\n",
    "from sklearn.feature_selection import RFE\n",
    "from sklearn.metrics import f1_score\n",
    "from sklearn.metrics import roc_auc_score"
   ]
  },
  {
   "cell_type": "markdown",
   "metadata": {},
   "source": [
    "# environment"
   ]
  },
  {
   "cell_type": "code",
   "execution_count": null,
   "metadata": {},
   "outputs": [],
   "source": [
    "print(python_version())"
   ]
  },
  {
   "cell_type": "code",
   "execution_count": null,
   "metadata": {},
   "outputs": [],
   "source": [
    "sys.getdefaultencoding()"
   ]
  },
  {
   "cell_type": "code",
   "execution_count": null,
   "metadata": {},
   "outputs": [],
   "source": [
    "%autosave 0"
   ]
  },
  {
   "cell_type": "code",
   "execution_count": null,
   "metadata": {},
   "outputs": [],
   "source": [
    "#最大表示列数の指定（ここでは2000列を指定）\n",
    "pd.set_option('display.max_columns', 2000)"
   ]
  },
  {
   "cell_type": "code",
   "execution_count": null,
   "metadata": {},
   "outputs": [],
   "source": [
    "#最大表示行数の指定（ここでは50行を指定）\n",
    "pd.set_option('display.max_rows', 50)"
   ]
  },
  {
   "cell_type": "markdown",
   "metadata": {},
   "source": [
    "# definition"
   ]
  },
  {
   "cell_type": "code",
   "execution_count": null,
   "metadata": {},
   "outputs": [],
   "source": [
    "### customize define\n",
    "\n",
    "FEATURE_NUM = 90\n",
    "\n",
    "TEST_SIZE_VAL = 0.2\n",
    "\n",
    "# 特徴量削減ステップ\n",
    "SELECTOR_STEP = .05\n",
    "\n",
    "TARGET_PROB_CLASS_VALUE = '1'\n"
   ]
  },
  {
   "cell_type": "code",
   "execution_count": null,
   "metadata": {},
   "outputs": [],
   "source": [
    "read_train_path = r\"/Users/masayuki/Documents/data/python_workspace/Kaggle/cat-in-the-dat-ii/input/train.csv\"\n",
    "\n",
    "read_test_path = r\"/Users/masayuki/Documents/data/python_workspace/Kaggle/cat-in-the-dat-ii/input/test.csv\"\n",
    "\n",
    "output_dir_path = r\"/Users/masayuki/Documents/data/python_workspace/Kaggle/cat-in-the-dat-ii/output\"\n",
    "\n",
    "output_file_name = \"submission.csv\"\n",
    "\n",
    "drop_col_name_list =[\"nom_5\", \"nom_6\", \"nom_7\", \"nom_8\", \"nom_9\"]\n",
    "\n",
    "float_conv_col_name_list = [\"day\", \"month\"]\n",
    "\n",
    "float_nan_conv_dic ={\n",
    "    # name: [min, max]\n",
    "    \"day\": [1,28],\n",
    "    \"month\": [1,12],\n",
    "}\n",
    "\n",
    "id_col_name=\"id\"\n",
    "target_col_name = \"target\"\n",
    "\n",
    "RANDOM_STATE_VAL = 0\n"
   ]
  },
  {
   "cell_type": "markdown",
   "metadata": {},
   "source": [
    "# function"
   ]
  },
  {
   "cell_type": "code",
   "execution_count": null,
   "metadata": {},
   "outputs": [],
   "source": [
    "def dispalyDf(readDf, dispFlag, row_num, dispLabel):\n",
    "    print(\"========================= {} =========================\".format(dispLabel))\n",
    "    row_num , col_num = np.shape(readDf)\n",
    "    print(\"row_num = {}, col_num = {}\".format(row_num, col_num))\n",
    "    if dispFlag:\n",
    "        display(readDf.head(row_num))\n",
    "    print(\"++++++ None Count All++++++\")\n",
    "    print(readDf.isnull().values.sum())\n",
    "    print(\"++++++ None Count ++++++\")\n",
    "    print(readDf.isnull().sum())\n",
    "    print(\"++++++ Col Type ++++++\")\n",
    "    print(readDf.dtypes)\n",
    "#     print(\"++++++ Unique By Col（Noneは含まないので注意） ++++++\")\n",
    "#     for col_name in readDf.columns.tolist():\n",
    "#         print(\"{} : {}\".format(col_name, readDf[col_name].nunique()))\n",
    "    \n",
    "\n",
    "    "
   ]
  },
  {
   "cell_type": "code",
   "execution_count": null,
   "metadata": {},
   "outputs": [],
   "source": [
    "def chkNum(expect_label, expect_num, act_label, act_num):\n",
    "    if expect_num != act_num:\n",
    "        raise Exception(\"Num Error !! expect({}): {}, act({}) : {}\"\n",
    "                        .format(expect_label, expect_num, act_label, act_num))\n",
    "    "
   ]
  },
  {
   "cell_type": "code",
   "execution_count": null,
   "metadata": {},
   "outputs": [],
   "source": [
    "def standardScalerDf(inputDf):\n",
    "    row_num, col_num = np.shape(inputDf)\n",
    "    \n",
    "    # 平準化\n",
    "    scaler = StandardScaler()\n",
    "    val_array = scaler.fit_transform(np.array(inputDf.values.tolist()))\n",
    "    standardScDf = pd.DataFrame(val_array, dtype=np.float, columns = inputDf.columns.tolist())\n",
    "    \n",
    "    sc_row_num, sc_col_num = np.shape(standardScDf)\n",
    "\n",
    "    # 行数チェック\n",
    "    chkNum(\"expect_row_num\", row_num, \"sc_row_num\", sc_row_num)\n",
    "    # 列数チェック\n",
    "    chkNum(\"expect_col_num\", col_num, \"sc_col_num\", sc_col_num)\n",
    "\n",
    "    \n",
    "    del val_array\n",
    "    return standardScDf\n"
   ]
  },
  {
   "cell_type": "code",
   "execution_count": null,
   "metadata": {},
   "outputs": [],
   "source": [
    "####################################\n",
    "##### 次元削減(特徴量選択) を使用する\n",
    "##### ↓特徴量選択(RandomForestClassifier)\n",
    "####################################\n",
    "def getSelectorFeature(inputFeatureDf,y_Df,feature_num, selector_step):\n",
    "    # 特徴量因子の重要度を推定する分類器をRandomForestClassifierに設定\n",
    "    # 0未満 の場合はNoneに設定する。\n",
    "    # 1回のstepで削除する次元数は5%ずつとする\n",
    "    \n",
    "    print(\"特徴量選択数 = \",feature_num)\n",
    "    if(feature_num < 0):\n",
    "        # デフォルト値\n",
    "        print(\"n_features_to_select = None に設定\")\n",
    "        feature_num = None\n",
    "    elif feature_num > len(inputFeatureDf.columns.tolist()):\n",
    "        raise Exception(\"feature_num({}) is Over colnum({})\".format(feature_num, len(inputFeatureDf.columns.tolist())))\n",
    "    \n",
    "    # 特徴量選択\n",
    "    # step:特徴量削除の速度。一度の再帰処理により指定ステップ分の特徴量が消滅する。\n",
    "    selector = RFE(estimator=RandomForestClassifier(n_estimators=10,\n",
    "                                                    random_state=RANDOM_STATE_VAL),\n",
    "                   n_features_to_select=feature_num,\n",
    "                   step=selector_step)\n",
    "    selector.fit(inputFeatureDf,y_Df.values.ravel())\n",
    "    #selector.fit(inputFeatureDf, y_Df.iloc[:,0])\n",
    "\n",
    "    # 削除対象配列(Falseが削除対象)\n",
    "    selFlagArray = selector.support_\n",
    "    \n",
    "    # 現状のカラム名を取得\n",
    "    columnIndex = inputFeatureDf.columns\n",
    "    \n",
    "    # 削除対象カラム名リスト\n",
    "    drop_column_list = list()\n",
    "    # 削除対象配列 でループ(i=0,1,2,・・・)\n",
    "    print(len(selFlagArray))\n",
    "    for i in range(len(selFlagArray)):\n",
    "        # Falseの場合に、削除対象リストに追加\n",
    "        if(selFlagArray[i] == False):\n",
    "            drop_column_list.append(columnIndex[i])\n",
    "\n",
    "    # 不要な列削除\n",
    "    #print(\"削除対象カラム = \" , drop_column_list)\n",
    "    inputFeatureNewDf = inputFeatureDf.drop(drop_column_list, axis=1)\n",
    "    \n",
    "\n",
    "    return inputFeatureNewDf\n"
   ]
  },
  {
   "cell_type": "code",
   "execution_count": null,
   "metadata": {},
   "outputs": [],
   "source": [
    "# test用のカラムのDataFrame\n",
    "def getAdjustTestColDf(inputDf, train_col_list):\n",
    "    not_enough_col_list = set(train_col_list) - set(inputDf.columns.tolist())\n",
    "    print(\"# trainに有ってtestにないカラム名のリスト\")\n",
    "    print(\"{} : {}\".format(len(not_enough_col_list), not_enough_col_list))\n",
    "        \n",
    "    dataLen = len(inputDf)\n",
    "        \n",
    "    retDf = inputDf.join(\n",
    "        pd.DataFrame({col_name : [0]*dataLen  for col_name  in not_enough_col_list },\n",
    "                     dtype=np.float, columns=not_enough_col_list)\n",
    "    ).loc[:, train_col_list]\n",
    "    \n",
    "    # カラムリストが一致するかチェック\n",
    "    if retDf.columns.tolist() != train_col_list:\n",
    "        raise Exception(\"col_name_list not Match train and test.\")\n",
    "\n",
    "    # データ行数が一致するかチェック\n",
    "    chkNum(\"dataLen\", dataLen, \"retDf\", len(retDf))\n",
    "\n",
    "    return retDf"
   ]
  },
  {
   "cell_type": "code",
   "execution_count": null,
   "metadata": {},
   "outputs": [],
   "source": [
    "# 前処理関数\n",
    "def getBeforeProcessDf(inputDf, drop_col_name_list, float_conv_col_name_list, train_Flg, train_target_Df ,\n",
    "                       test_size_val, random_state_val, feature_num, selector_step, train_col_list):\n",
    "    # inputをコピーしておく\n",
    "    convDf = inputDf.copy()\n",
    "    \n",
    "    # 列削除\n",
    "    convDf = convDf.drop(drop_col_name_list, axis=1)\n",
    "    \n",
    "    # カラム名リスト保持\n",
    "    col_list = convDf.columns.tolist()\n",
    "\n",
    "    # 連続値のカラムの欠損値補完\n",
    "    float_conv_dic={}\n",
    "    for col_name in float_conv_col_name_list:\n",
    "        # floatにカラム型変換\n",
    "        convDf[col_name] = convDf[col_name].astype(np.float)\n",
    "        \n",
    "        conv_list = \\\n",
    "        [(np.random.randint(\n",
    "            float_nan_conv_dic[col_name][0],\n",
    "            float_nan_conv_dic[col_name][1])\n",
    "          if np.isnan(elem) else elem )\n",
    "         for elem in convDf[col_name].values.tolist()]\n",
    "        float_conv_dic[col_name]=conv_list\n",
    "    ###\n",
    "    \n",
    "    float_conv_df = pd.DataFrame(float_conv_dic,dtype=np.float)\n",
    "    \n",
    "    col_list_except_float = [col_name for col_name in col_list \n",
    "                             if col_name not in float_conv_col_name_list]\n",
    "    \n",
    "    del conv_list\n",
    "    # float以外のDataFrameを抽出\n",
    "    convDf = convDf.loc[:,col_list_except_float]\n",
    "    \n",
    "    # NaNも一つのカテゴリーとしてダミー変数化したい場合は、引数dummy_na=Trueとする。\n",
    "    convDf = pd.get_dummies(convDf, dummy_na=True, columns=col_list_except_float)\n",
    "    \n",
    "\n",
    "    #  全ての特徴量\n",
    "    allFeatureDf = convDf.join(float_conv_df)\n",
    "\n",
    "    if train_Flg:\n",
    "        # trainの場合\n",
    "        # 標準化\n",
    "        allFeatureDf =  standardScalerDf(allFeatureDf)\n",
    "\n",
    "        # ホールドアウト\n",
    "        trainFeatureDf, testFeatureDf, y_train, y_test = train_test_split(allFeatureDf,     # 特徴量\n",
    "                                                                          train_target_Df,    # 正解データ\n",
    "                                                                          test_size=test_size_val ,\n",
    "                                                                          random_state=random_state_val)\n",
    "        \n",
    "        # RandomForest で特徴量選択を行う。\n",
    "        trainFeatureDf = getSelectorFeature(trainFeatureDf,  y_train, feature_num, selector_step)\n",
    "        testFeatureDf = testFeatureDf.loc[:,  trainFeatureDf.columns.tolist()]\n",
    "        \n",
    "    else:\n",
    "        # testの場合\n",
    "    \n",
    "        trainFeatureDf = None\n",
    "        # カラムをtrainと合わせる\n",
    "        testFeatureDf = getAdjustTestColDf(allFeatureDf, train_col_list)\n",
    "        # 標準化\n",
    "        testFeatureDf =  standardScalerDf(testFeatureDf)\n",
    "        \n",
    "        \n",
    "        \n",
    "        y_train = None\n",
    "        y_test =  None\n",
    "    \n",
    "    return trainFeatureDf, testFeatureDf, y_train, y_test"
   ]
  },
  {
   "cell_type": "code",
   "execution_count": null,
   "metadata": {},
   "outputs": [],
   "source": [
    "# モデル入手\n",
    "def getModel(train_Df, y_train_Df, test_Df,  y_test_Df, target_class_value):\n",
    "    randF = RandomForestClassifier(n_estimators=10, random_state=RANDOM_STATE_VAL)\n",
    "    randF.fit(train_Df, y_train_Df.values.ravel())\n",
    "\n",
    "    print(\"f1_score = \",f1_score(y_test_Df.values.ravel(), \n",
    "                                 randF.predict(test_Df), pos_label = target_class_value))\n",
    "    print(\"auc_score = \",roc_auc_score(y_test_Df.values.ravel(), \n",
    "                                       randF.predict_proba(test_Df)[:,int(target_class_value)]))\n",
    "    \n",
    "    return randF\n"
   ]
  },
  {
   "cell_type": "code",
   "execution_count": null,
   "metadata": {},
   "outputs": [],
   "source": [
    "# 予測\n",
    "def getPredictDf(model, test_Df, id_Df , target_class_value, target_col_name):\n",
    "    return id_Df.join(\n",
    "        pd.DataFrame(model.predict_proba(test_Df)[:,int(target_class_value)],\n",
    "                     dtype=np.float, columns=[target_col_name]))\n"
   ]
  },
  {
   "cell_type": "markdown",
   "metadata": {},
   "source": [
    "# process"
   ]
  },
  {
   "cell_type": "code",
   "execution_count": null,
   "metadata": {},
   "outputs": [],
   "source": [
    "# ファイル読み込み(train)\n",
    "train_read_Df = pd.read_csv(read_train_path,\n",
    "                            header=0,\n",
    "                            encoding=\"utf-8\",\n",
    "                            sep='\\n',\n",
    "                            delimiter=',',\n",
    "                            engine='python',\n",
    "                            dtype=object)\n"
   ]
  },
  {
   "cell_type": "code",
   "execution_count": null,
   "metadata": {},
   "outputs": [],
   "source": [
    "# ファイル読み込み(test)\n",
    "test_read_Df = pd.read_csv(read_test_path,\n",
    "                           header=0,\n",
    "                           encoding=\"utf-8\",\n",
    "                           sep='\\n',\n",
    "                           delimiter=',',\n",
    "                           engine='python',\n",
    "                           dtype=object)\n"
   ]
  },
  {
   "cell_type": "code",
   "execution_count": null,
   "metadata": {},
   "outputs": [],
   "source": [
    "######################################"
   ]
  },
  {
   "cell_type": "code",
   "execution_count": null,
   "metadata": {},
   "outputs": [],
   "source": [
    "trainDf = train_read_Df.copy()\n",
    "testDf = test_read_Df.copy()"
   ]
  },
  {
   "cell_type": "code",
   "execution_count": null,
   "metadata": {},
   "outputs": [],
   "source": [
    "dispalyDf(trainDf, True, 5,  \"trainDf\")"
   ]
  },
  {
   "cell_type": "code",
   "execution_count": null,
   "metadata": {},
   "outputs": [],
   "source": [
    "dispalyDf(testDf, True, 5,  \"testDf\")"
   ]
  },
  {
   "cell_type": "code",
   "execution_count": null,
   "metadata": {},
   "outputs": [],
   "source": [
    "# カラムの差分\n",
    "set(trainDf.columns.tolist()) - set(testDf.columns.tolist())"
   ]
  },
  {
   "cell_type": "code",
   "execution_count": null,
   "metadata": {},
   "outputs": [],
   "source": [
    "#################"
   ]
  },
  {
   "cell_type": "code",
   "execution_count": null,
   "metadata": {},
   "outputs": [],
   "source": [
    "# train:データのDataFrameと、ターゲットのデータフレームに分ける。\n",
    "train_target_Df = trainDf.loc[:,[target_col_name]]\n",
    "trainDf = trainDf.loc[:,[col_name for col_name in trainDf.columns.tolist() if col_name not in [id_col_name,target_col_name]]]"
   ]
  },
  {
   "cell_type": "code",
   "execution_count": null,
   "metadata": {},
   "outputs": [],
   "source": [
    "#dispalyDf(train_target_Df, True, 5,  \"train_target_Df\")"
   ]
  },
  {
   "cell_type": "code",
   "execution_count": null,
   "metadata": {},
   "outputs": [],
   "source": [
    "#dispalyDf(trainDf, True, 5,  \"trainDf\")"
   ]
  },
  {
   "cell_type": "code",
   "execution_count": null,
   "metadata": {},
   "outputs": [],
   "source": []
  },
  {
   "cell_type": "code",
   "execution_count": null,
   "metadata": {},
   "outputs": [],
   "source": [
    "# test:idとデータのDataFrameを抽出。\n",
    "test_id_Df = testDf.loc[:,[id_col_name]]\n",
    "testDf = testDf.loc[:,[col_name for col_name in testDf.columns.tolist() if col_name != id_col_name]]"
   ]
  },
  {
   "cell_type": "code",
   "execution_count": null,
   "metadata": {},
   "outputs": [],
   "source": [
    "#dispalyDf(test_id_Df, True, 5,  \"test_id_Df\")"
   ]
  },
  {
   "cell_type": "code",
   "execution_count": null,
   "metadata": {},
   "outputs": [],
   "source": [
    "#dispalyDf(testDf, True, 5,  \"testDf\")"
   ]
  },
  {
   "cell_type": "code",
   "execution_count": null,
   "metadata": {
    "scrolled": false
   },
   "outputs": [],
   "source": [
    "#### train のデータ前処理\n",
    "train_train_Df, train_test_Df, y_train_train, y_train_test = getBeforeProcessDf(\n",
    "#    trainDf.loc[0:1000,], drop_col_name_list, float_conv_col_name_list, True , train_target_Df.loc[0:1000,],\n",
    "    trainDf, drop_col_name_list, float_conv_col_name_list, True , train_target_Df,\n",
    "    TEST_SIZE_VAL, RANDOM_STATE_VAL, FEATURE_NUM, SELECTOR_STEP, None)\n"
   ]
  },
  {
   "cell_type": "code",
   "execution_count": null,
   "metadata": {},
   "outputs": [],
   "source": [
    "#### test のデータ前処理\n",
    "_, test_new_Df, _, _ = getBeforeProcessDf(\n",
    "#    testDf.loc[0:1000,], drop_col_name_list, float_conv_col_name_list, False , None,\n",
    "    testDf, drop_col_name_list, float_conv_col_name_list, False , None,\n",
    "    None, None, None, None, train_train_Df.columns.tolist())\n"
   ]
  },
  {
   "cell_type": "code",
   "execution_count": null,
   "metadata": {},
   "outputs": [],
   "source": []
  },
  {
   "cell_type": "code",
   "execution_count": null,
   "metadata": {},
   "outputs": [],
   "source": []
  },
  {
   "cell_type": "code",
   "execution_count": null,
   "metadata": {},
   "outputs": [],
   "source": [
    "# モデル入手\n",
    "model = getModel(train_train_Df, y_train_train, train_test_Df,  y_train_test, TARGET_PROB_CLASS_VALUE)"
   ]
  },
  {
   "cell_type": "code",
   "execution_count": null,
   "metadata": {},
   "outputs": [],
   "source": [
    "# 予測\n",
    "#resultDf = getPredictDf(model, test_new_Df, test_id_Df.loc[0:1000] , TARGET_PROB_CLASS_VALUE, target_col_name)\n",
    "resultDf = getPredictDf(model, test_new_Df, test_id_Df , TARGET_PROB_CLASS_VALUE, target_col_name)\n"
   ]
  },
  {
   "cell_type": "code",
   "execution_count": null,
   "metadata": {},
   "outputs": [],
   "source": [
    "dispalyDf(resultDf, True, 5,  \"resultDf\")"
   ]
  },
  {
   "cell_type": "code",
   "execution_count": null,
   "metadata": {},
   "outputs": [],
   "source": [
    "# ディレクトリなければ作る\n",
    "if not os.path.exists(output_dir_path):\n",
    "    os.makedirs(output_dir_path) "
   ]
  },
  {
   "cell_type": "code",
   "execution_count": null,
   "metadata": {},
   "outputs": [],
   "source": [
    "ouput_file_path = os.path.join(output_dir_path, output_file_name)\n",
    "print(ouput_file_path)"
   ]
  },
  {
   "cell_type": "code",
   "execution_count": null,
   "metadata": {},
   "outputs": [],
   "source": [
    "# ファイル出力\n",
    "resultDf.to_csv(ouput_file_path,\n",
    "               sep=\",\",\n",
    "                header=True,\n",
    "                index=False,\n",
    "                mode=\"w\",\n",
    "                encoding=\"utf-8\",\n",
    "                line_terminator=\"\\n\"\n",
    "               )\n"
   ]
  },
  {
   "cell_type": "code",
   "execution_count": null,
   "metadata": {},
   "outputs": [],
   "source": []
  },
  {
   "cell_type": "code",
   "execution_count": null,
   "metadata": {},
   "outputs": [],
   "source": []
  },
  {
   "cell_type": "code",
   "execution_count": null,
   "metadata": {},
   "outputs": [],
   "source": []
  },
  {
   "cell_type": "code",
   "execution_count": null,
   "metadata": {},
   "outputs": [],
   "source": []
  },
  {
   "cell_type": "code",
   "execution_count": null,
   "metadata": {},
   "outputs": [],
   "source": [
    "raise Exception(\"EEEEEEEEEEEEEEEEEEEEEE\")"
   ]
  }
 ],
 "metadata": {
  "kernelspec": {
   "display_name": "Python 3",
   "language": "python",
   "name": "python3"
  },
  "language_info": {
   "codemirror_mode": {
    "name": "ipython",
    "version": 3
   },
   "file_extension": ".py",
   "mimetype": "text/x-python",
   "name": "python",
   "nbconvert_exporter": "python",
   "pygments_lexer": "ipython3",
   "version": "3.7.4"
  }
 },
 "nbformat": 4,
 "nbformat_minor": 2
}
