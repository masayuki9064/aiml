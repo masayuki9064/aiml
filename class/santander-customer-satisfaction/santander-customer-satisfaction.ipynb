{
 "cells": [
  {
   "cell_type": "markdown",
   "metadata": {},
   "source": [
    "# santander-customer-satisfaction"
   ]
  },
  {
   "cell_type": "markdown",
   "metadata": {},
   "source": [
    "# import"
   ]
  },
  {
   "cell_type": "code",
   "execution_count": null,
   "metadata": {},
   "outputs": [],
   "source": [
    "import numpy as np\n",
    "import pandas as pd\n",
    "import tqdm\n",
    "import os\n",
    "from collections import deque\n",
    "from collections import Counter\n",
    "import codecs\n",
    "import copy\n",
    "from sklearn.metrics import confusion_matrix\n",
    "import sys\n",
    "from platform import python_version\n",
    "from datetime import datetime\n",
    "import time\n",
    "import shutil\n",
    "from sklearn.preprocessing import OneHotEncoder\n",
    "import csv\n",
    "from sklearn.ensemble import RandomForestClassifier\n",
    "from sklearn.metrics import roc_auc_score, f1_score\n",
    "from sklearn.tree import DecisionTreeClassifier\n",
    "from sklearn.model_selection import train_test_split\n",
    "from sklearn.ensemble import ExtraTreesClassifier, RandomForestClassifier, VotingClassifier\n",
    "from sklearn.pipeline import Pipeline\n",
    "from sklearn.preprocessing import MinMaxScaler\n",
    "from sklearn.preprocessing import StandardScaler\n",
    "from sklearn.linear_model import LogisticRegression\n",
    "\n",
    "\n",
    "\n",
    "from sklearn.linear_model import LinearRegression\n",
    "from sklearn.linear_model import Ridge\n",
    "from sklearn.linear_model import SGDRegressor\n",
    "from sklearn.model_selection import cross_validate\n",
    "from sklearn.model_selection import cross_val_score\n",
    "from sklearn.feature_selection import RFE\n"
   ]
  },
  {
   "cell_type": "markdown",
   "metadata": {},
   "source": [
    "# environment"
   ]
  },
  {
   "cell_type": "code",
   "execution_count": null,
   "metadata": {},
   "outputs": [],
   "source": [
    "print(python_version())"
   ]
  },
  {
   "cell_type": "code",
   "execution_count": null,
   "metadata": {},
   "outputs": [],
   "source": [
    "sys.getdefaultencoding()"
   ]
  },
  {
   "cell_type": "code",
   "execution_count": null,
   "metadata": {},
   "outputs": [],
   "source": [
    "%autosave 0"
   ]
  },
  {
   "cell_type": "code",
   "execution_count": null,
   "metadata": {},
   "outputs": [],
   "source": [
    "#最大表示列数の指定（ここでは2000列を指定）\n",
    "pd.set_option('display.max_columns', 2000)"
   ]
  },
  {
   "cell_type": "code",
   "execution_count": null,
   "metadata": {},
   "outputs": [],
   "source": [
    "#最大表示行数の指定（ここでは200行を指定）\n",
    "pd.set_option('display.max_rows', 50)"
   ]
  },
  {
   "cell_type": "markdown",
   "metadata": {},
   "source": [
    "# define"
   ]
  },
  {
   "cell_type": "code",
   "execution_count": null,
   "metadata": {},
   "outputs": [],
   "source": [
    "# n_estimators:ここを増やすと精度は上がるが遅い。。。\n",
    "ESTIMATOR_NUM=10\n",
    "RANDOM_STATE_VAL = 0\n",
    "target_col_name = \"TARGET\"\n",
    "id_col_name = \"ID\"\n",
    "CV_VAL = 5\n",
    "\n",
    "#FEATURE_NUM = 950\n",
    "#FEATURE_NUM = 150\n",
    "FEATURE_NUM = 200\n",
    "\n",
    "SELECTOR_STEP = .05"
   ]
  },
  {
   "cell_type": "markdown",
   "metadata": {},
   "source": [
    "# function"
   ]
  },
  {
   "cell_type": "code",
   "execution_count": null,
   "metadata": {},
   "outputs": [],
   "source": [
    "def dispalyDf(readDf, dispFlag, row_num, dispLabel):\n",
    "    print(\"========================= {} =========================\".format(dispLabel))\n",
    "    row_num , col_num = np.shape(readDf)\n",
    "    print(\"row_num = {}, col_num = {}\".format(row_num, col_num))\n",
    "    if dispFlag:\n",
    "        display(readDf.head(row_num))\n",
    "    print(\"++++++ None Count All++++++\")\n",
    "    print(readDf.isnull().values.sum())\n",
    "    print(\"++++++ None Count ++++++\")\n",
    "    print(readDf.isnull().sum())\n",
    "    print(\"++++++ Col Type ++++++\")\n",
    "    print(readDf.dtypes)\n",
    "#     print(\"++++++ Unique By Col（Noneは含まないので注意） ++++++\")\n",
    "#     for col_name in readDf.columns.tolist():\n",
    "#         print(\"{} : {}\".format(col_name, readDf[col_name].nunique()))"
   ]
  },
  {
   "cell_type": "code",
   "execution_count": null,
   "metadata": {},
   "outputs": [],
   "source": [
    "################################################\n",
    "######## チェック関数\n",
    "################################################\n",
    "def chkVal(expect_label, expect_num, act_label, act_num):\n",
    "    if expect_num != act_num:\n",
    "        raise Exception(\"Num Error !! expect({}): {}, act({}) : {}\"\n",
    "                        .format(expect_label, expect_num, act_label, act_num))\n"
   ]
  },
  {
   "cell_type": "code",
   "execution_count": null,
   "metadata": {},
   "outputs": [],
   "source": [
    "def getStandardScalerDf(inputDf):\n",
    "    row_num, col_num = np.shape(inputDf)\n",
    "    \n",
    "    # スケール変換\n",
    "    scaler = StandardScaler()\n",
    "    \n",
    "    val_array = scaler.fit_transform(np.array(inputDf.values.tolist()))\n",
    "    standardScDf = pd.DataFrame(val_array, dtype=np.float, columns = inputDf.columns.tolist())\n",
    "    \n",
    "    sc_row_num, sc_col_num = np.shape(standardScDf)\n",
    "\n",
    "    # 行数チェック\n",
    "    chkVal(\"expect_row_num\", row_num, \"sc_row_num\", sc_row_num)\n",
    "    # 列数チェック\n",
    "    chkVal(\"expect_col_num\", col_num, \"sc_col_num\", sc_col_num)\n",
    "\n",
    "    \n",
    "    del val_array\n",
    "    return standardScDf\n"
   ]
  },
  {
   "cell_type": "code",
   "execution_count": null,
   "metadata": {},
   "outputs": [],
   "source": [
    "# test用のカラムのDataFrame\n",
    "def getAdjustTestColDf(inputDf, train_col_list):\n",
    "    not_enough_col_list = set(train_col_list) - set(inputDf.columns.tolist())\n",
    "    print(\"# trainに有ってtestにないカラム名のリスト\")\n",
    "    print(\"{} : {}\".format(len(not_enough_col_list), not_enough_col_list))\n",
    "        \n",
    "    dataLen = len(inputDf)\n",
    "        \n",
    "    retDf = inputDf.join(\n",
    "        pd.DataFrame({col_name : [0]*dataLen  for col_name  in not_enough_col_list },\n",
    "                     dtype=np.float, columns=not_enough_col_list)\n",
    "    ).loc[:, train_col_list]\n",
    "    \n",
    "    # カラムリストが一致するかチェック\n",
    "    if retDf.columns.tolist() != train_col_list:\n",
    "        raise Exception(\"col_name_list not Match train and test.\")\n",
    "\n",
    "    # データ行数が一致するかチェック\n",
    "    chkVal(\"dataLen\", dataLen, \"retDf\", len(retDf))\n",
    "\n",
    "    return retDf"
   ]
  },
  {
   "cell_type": "markdown",
   "metadata": {},
   "source": [
    "# process"
   ]
  },
  {
   "cell_type": "code",
   "execution_count": null,
   "metadata": {},
   "outputs": [],
   "source": [
    "act_train_read_Df = pd.read_csv('input/train.csv')\n",
    "act_test_read_Df = pd.read_csv('input/test.csv')"
   ]
  },
  {
   "cell_type": "code",
   "execution_count": null,
   "metadata": {},
   "outputs": [],
   "source": [
    "act_train_Df = act_train_read_Df.copy()\n",
    "act_test_Df = act_test_read_Df.copy()"
   ]
  },
  {
   "cell_type": "code",
   "execution_count": null,
   "metadata": {
    "scrolled": false
   },
   "outputs": [],
   "source": [
    "dispalyDf(act_train_Df, True, 10, \"act_train_Df\")"
   ]
  },
  {
   "cell_type": "code",
   "execution_count": null,
   "metadata": {},
   "outputs": [],
   "source": [
    "dispalyDf(act_test_Df, True, 10, \"act_test_Df\")"
   ]
  },
  {
   "cell_type": "code",
   "execution_count": null,
   "metadata": {},
   "outputs": [],
   "source": [
    "################################################"
   ]
  },
  {
   "cell_type": "code",
   "execution_count": null,
   "metadata": {},
   "outputs": [],
   "source": [
    "# train:データのDataFrameと、ターゲットのデータフレームに分ける。\n",
    "train_target_Ser = act_train_Df[target_col_name]\n",
    "act_train_Df = act_train_Df.loc[:,[col_name for col_name in act_train_Df.columns.tolist() if col_name not in [id_col_name,target_col_name]]]\n",
    "print(set(train_target_Ser))"
   ]
  },
  {
   "cell_type": "code",
   "execution_count": null,
   "metadata": {},
   "outputs": [],
   "source": [
    "# test:idとデータのDataFrameを抽出。\n",
    "test_id_Df = act_test_Df.loc[:,[id_col_name]]\n",
    "act_test_Df = act_test_Df.loc[:,[col_name for col_name in act_test_Df.columns.tolist() if col_name != id_col_name]]"
   ]
  },
  {
   "cell_type": "code",
   "execution_count": null,
   "metadata": {},
   "outputs": [],
   "source": []
  },
  {
   "cell_type": "code",
   "execution_count": null,
   "metadata": {},
   "outputs": [],
   "source": [
    "drop_columns = []\n",
    "train_val_range_dict = {}"
   ]
  },
  {
   "cell_type": "code",
   "execution_count": null,
   "metadata": {},
   "outputs": [],
   "source": [
    "def getDropListEqualVal(input_Df, drop_columns):\n",
    "    col_list_1st = input_Df.columns.tolist()\n",
    "    col_list_2nd = col_list_1st.copy()\n",
    "    \n",
    "    for col_name1 in col_list_1st:\n",
    "        col_list_2nd.remove(col_name1)\n",
    "        \n",
    "        drop_columns.extend([col_name2 for col_name2 in col_list_2nd\n",
    "            if col_name2 not in drop_columns and (input_Df[col_name1] == input_Df[col_name2]).all()\n",
    "        ])\n",
    "    \n",
    "    return drop_columns"
   ]
  },
  {
   "cell_type": "code",
   "execution_count": null,
   "metadata": {},
   "outputs": [],
   "source": [
    "def getSerTestValInRange(inputSer, val_range_list):\n",
    "    train_min_val = val_range_list[0]\n",
    "    train_max_val = val_range_list[1]\n",
    "    return np.where(inputSer<train_min_val,train_min_val, \n",
    "                         np.where(inputSer>train_max_val, train_max_val, inputSer))    "
   ]
  },
  {
   "cell_type": "code",
   "execution_count": null,
   "metadata": {},
   "outputs": [],
   "source": [
    "###### 前処理 ######\n",
    "def getBeroreProcessDf(input_Df, drop_columns, trainFlag, train_val_range_dict):\n",
    "    retDf = input_Df.copy()\n",
    "\n",
    "    #### 訓練時のみの処理\n",
    "    if trainFlag:\n",
    "        # 値のユニーク数が１のカラムをdropリストに追加する\n",
    "        drop_columns.extend([col_name for col_name in act_train_Df.columns.tolist()\n",
    "                            if act_train_Df[col_name].nunique() == 1 not in drop_columns])\n",
    "        \n",
    "        # 値が同じカラムをdropリストに追加する。\n",
    "        drop_columns = getDropListEqualVal(input_Df, drop_columns)\n",
    "    ####\n",
    "    \n",
    "    retDf = retDf.drop(drop_columns, axis=1)\n",
    "    \n",
    "    columns = retDf.columns.tolist()\n",
    "\n",
    "\n",
    "    for col_name in columns:\n",
    "        if retDf[col_name].dtype == object:\n",
    "#             # 文字列のカラムの加工処理\n",
    "#             retDf[col_name] = retDf[col_name].fillna('type 0')\n",
    "#             retDf[col_name] = retDf[col_name].apply(lambda x: x.split(' ')[1])\n",
    "            \n",
    "#         # int64に変換する。\n",
    "#         retDf[col_name] = pd.to_numeric(retDf[col_name])\n",
    "            pass\n",
    "        elif retDf[col_name].dtype == np.int64:\n",
    "            # float64に変換する。\n",
    "            retDf[col_name] = retDf[col_name].astype(np.float64)\n",
    "\n",
    "            \n",
    "        if trainFlag:\n",
    "            # train時\n",
    "            # 最小と最大を取得\n",
    "            train_val_range_dict[col_name] = [\n",
    "                retDf[col_name].min(), retDf[col_name].max()\n",
    "            ]\n",
    "        else:\n",
    "            # test時\n",
    "            # 最小〜最大の範囲内に収める\n",
    "            retDf[col_name]  = getSerTestValInRange(retDf[col_name] , train_val_range_dict[col_name])\n",
    "        \n",
    "     \n",
    "    # 桁数が大きい値をlogにする\n",
    "    retDf[\"var38\"] = np.log(retDf[\"var38\"])\n",
    "    \n",
    "    return retDf, drop_columns, train_val_range_dict\n",
    "    "
   ]
  },
  {
   "cell_type": "code",
   "execution_count": null,
   "metadata": {},
   "outputs": [],
   "source": [
    "act_train_Df_2, drop_columns, train_val_range_dict = getBeroreProcessDf(act_train_Df, drop_columns, True, train_val_range_dict)\n",
    "# デバッグ用\n",
    "#act_train_Df_2, drop_columns, train_val_range_dict = getBeroreProcessDf(act_train_Df[:1000], drop_columns, True, train_val_range_dict)"
   ]
  },
  {
   "cell_type": "code",
   "execution_count": null,
   "metadata": {},
   "outputs": [],
   "source": [
    "dispalyDf(act_train_Df_2, True, 10, \"act_train_Df_2\")"
   ]
  },
  {
   "cell_type": "code",
   "execution_count": null,
   "metadata": {},
   "outputs": [],
   "source": [
    "act_test_Df_2, _, _ = getBeroreProcessDf(act_test_Df, drop_columns, False, train_val_range_dict)"
   ]
  },
  {
   "cell_type": "code",
   "execution_count": null,
   "metadata": {},
   "outputs": [],
   "source": [
    "dispalyDf(act_test_Df_2, True, 10, \"act_test_Df_2\")"
   ]
  },
  {
   "cell_type": "code",
   "execution_count": null,
   "metadata": {},
   "outputs": [],
   "source": [
    "####################################\n",
    "##### 次元削減(特徴量選択) を使用する\n",
    "##### ↓特徴量選択\n",
    "####################################\n",
    "def getSelectorFeature(inputFeatureDf,y_Df,feature_num, selector_step, model):\n",
    "\n",
    "    print(\"特徴量選択数 = \",feature_num)\n",
    "    if(feature_num < 0):\n",
    "        # デフォルト値\n",
    "        print(\"n_features_to_select = None に設定\")\n",
    "        feature_num = None\n",
    "    elif feature_num > len(inputFeatureDf.columns.tolist()):\n",
    "        print (\"feature_num({}) is Over colnum({})\".format(feature_num, len(inputFeatureDf.columns.tolist())))\n",
    "        # 次元削減せずに返却する\n",
    "        return inputFeatureDf\n",
    "    \n",
    "    # 特徴量選択\n",
    "    # step:特徴量削除の速度。一度の再帰処理により指定ステップ分の特徴量が消滅する。\n",
    "#     selector = RFE(estimator=LogisticRegression(penalty='l2', C=1.5, random_state=RANDOM_STATE_VAL, max_iter=120,\n",
    "#                                            solver='liblinear'),\n",
    "    selector = RFE(estimator=model,\n",
    "                   n_features_to_select=feature_num,\n",
    "                   step=selector_step)\n",
    "    selector.fit(inputFeatureDf,y_Df.values.ravel())\n",
    "    #selector.fit(inputFeatureDf, y_Df.iloc[:,0])\n",
    "\n",
    "    # 削除対象配列(Falseが削除対象)\n",
    "    selFlagArray = selector.support_\n",
    "    \n",
    "    # 現状のカラム名を取得\n",
    "    columnIndex = inputFeatureDf.columns\n",
    "    \n",
    "    # 削除対象カラム名リスト\n",
    "    drop_column_list = list()\n",
    "    # 削除対象配列 でループ(i=0,1,2,・・・)\n",
    "    #print(len(selFlagArray))\n",
    "    for i in range(len(selFlagArray)):\n",
    "        # Falseの場合に、削除対象リストに追加\n",
    "        if(selFlagArray[i] == False):\n",
    "            drop_column_list.append(columnIndex[i])\n",
    "\n",
    "    # 不要な列削除\n",
    "    #print(\"削除対象カラム = \" , drop_column_list)\n",
    "    inputFeatureNewDf = inputFeatureDf.drop(drop_column_list, axis=1)\n",
    "    \n",
    "\n",
    "    return inputFeatureNewDf\n"
   ]
  },
  {
   "cell_type": "code",
   "execution_count": null,
   "metadata": {},
   "outputs": [],
   "source": [
    "# Pipelineに使う独自関数\n",
    "class MyStandardScaler(object):\n",
    "    def fit(self, X, y):\n",
    "        print(\" MyStandardScaler.fit\")\n",
    "        return X\n",
    "    def fit_transform(self, X, y):\n",
    "        print(\" MyStandardScaler.fit_transform\")\n",
    "        return getStandardScalerDf(X)\n",
    "#    def transform(self, X, y):\n",
    "    def transform(self, X):\n",
    "        print(\" MyStandardScaler.transform\")\n",
    "        return getStandardScalerDf(X)\n"
   ]
  },
  {
   "cell_type": "code",
   "execution_count": null,
   "metadata": {},
   "outputs": [],
   "source": [
    "# Pipelineに使う独自関数\n",
    "class MyPreprocessor(object,):\n",
    "    def fit(self, X, y):\n",
    "        print(\" MyPreprocessor.fit\")\n",
    "        return X\n",
    "    def fit_transform(self, X, y, feature_num, selector_step, model):\n",
    "        print(\" MyPreprocessor.fit_transform\")\n",
    "        return getSelectorFeature(X,y,feature_num, selector_step, model)\n",
    "    def predict(self, X, train_col_list):\n",
    "        print(\" MyPreprocessor.predict\")\n",
    "        return getAdjustTestColDf(X, train_col_list)"
   ]
  },
  {
   "cell_type": "code",
   "execution_count": null,
   "metadata": {},
   "outputs": [],
   "source": [
    "#### 学習 ####\n",
    "model_def_list = [\n",
    "    ExtraTreesClassifier(n_estimators = ESTIMATOR_NUM),\n",
    "    RandomForestClassifier(n_estimators=ESTIMATOR_NUM, random_state=RANDOM_STATE_VAL),\n",
    "    DecisionTreeClassifier(),\n",
    "\n",
    "#     LogisticRegression(penalty='l2', C=1.5, random_state=RANDOM_STATE_VAL,max_iter=120,\n",
    "#                        solver=\"liblinear\"),\n",
    "#     LogisticRegression(penalty='l2', C=1.5, random_state=RANDOM_STATE_VAL,max_iter=120,\n",
    "#                        solver=\"newton-cg\"),\n",
    "#     LogisticRegression(penalty='l2', C=1.5, random_state=RANDOM_STATE_VAL,max_iter=1200,\n",
    "#                        solver=\"newton-cg\"),\n",
    "#     LogisticRegression(penalty='l2', C=1.0, random_state=RANDOM_STATE_VAL,max_iter=2000,\n",
    "#                        solver=\"liblinear\"),\n",
    "]\n",
    "\n",
    "test_score_list = []\n",
    "model_fit_list = []\n",
    "select_train_col_list = []\n",
    "\n",
    "pipeline = Pipeline([\n",
    "#     ('MyStandardScaler', MyStandardScaler()),   #標準化\n",
    "     ('MyPreprocessor', MyPreprocessor()),   #独自関数\n",
    "])\n",
    "\n",
    "for model in model_def_list:\n",
    "    start = time.time()\n",
    "    print(\"==================================================\")\n",
    "    print(model)\n",
    "    \n",
    "    X_train = pipeline.fit_transform(act_train_Df_2, train_target_Ser,\n",
    "                                     MyPreprocessor__feature_num = FEATURE_NUM,\n",
    "                                     MyPreprocessor__selector_step = SELECTOR_STEP,\n",
    "                                     MyPreprocessor__model = model,\n",
    "                                    )\n",
    "    select_train_col_list.append(X_train.columns.tolist())\n",
    "#    X_train = act_train_Df_2\n",
    "    \n",
    "    model.fit(X_train, train_target_Ser.values.ravel())\n",
    "    model_fit_list.append(model)\n",
    "    \n",
    "    cv_results = cross_validate(model,\n",
    "                                                 act_train_Df_2,\n",
    "                                                 train_target_Ser.values.ravel(),      #1次元のARRAY\n",
    "                                                 cv=CV_VAL,\n",
    "                                                 scoring='accuracy')\n",
    "    print(\"test_score = \", np.mean(cv_results[\"test_score\"]))\n",
    "    test_score_list.append(np.mean(cv_results[\"test_score\"]))\n",
    "\n",
    "    elapsed_time = time.time() - start\n",
    "    print (\"elapsed_time:{0}\".format(elapsed_time) + \"[sec]\")\n",
    "    \n",
    "\n",
    "print(\"----------------------------------------------------------------------------------------\")\n",
    "# test_score が最大のアルゴリズムを適用する\n",
    "print(test_score_list)\n",
    "selected_index = np.argmax(test_score_list)\n",
    "selected_model = model_fit_list[selected_index]\n",
    "print(\"selected_model : {}\\n{}\".format(selected_model, test_score_list[selected_index]))"
   ]
  },
  {
   "cell_type": "code",
   "execution_count": null,
   "metadata": {},
   "outputs": [],
   "source": [
    "#### 予測 ####\n",
    "\n",
    "X_test = pipeline.predict(act_test_Df_2, train_col_list = select_train_col_list[selected_index])\n",
    "#X_test = act_test_Df_2\n",
    "\n",
    "#test_pred = selected_model.predict(X_test)\n",
    "test_pred = selected_model.predict_proba(X_test)[:,1]\n",
    "target_Df = pd.DataFrame(\n",
    "    {\n",
    "        target_col_name: test_pred \n",
    "    })"
   ]
  },
  {
   "cell_type": "code",
   "execution_count": null,
   "metadata": {},
   "outputs": [],
   "source": [
    "output_Df = test_id_Df.join(target_Df)"
   ]
  },
  {
   "cell_type": "code",
   "execution_count": null,
   "metadata": {},
   "outputs": [],
   "source": [
    "dispalyDf(output_Df, True, 10, \"output_Df\")"
   ]
  },
  {
   "cell_type": "code",
   "execution_count": null,
   "metadata": {},
   "outputs": [],
   "source": [
    "output_Df[target_col_name].unique()[:10]"
   ]
  },
  {
   "cell_type": "code",
   "execution_count": null,
   "metadata": {},
   "outputs": [],
   "source": []
  },
  {
   "cell_type": "code",
   "execution_count": null,
   "metadata": {},
   "outputs": [],
   "source": [
    "# ディレクトリなければ作る\n",
    "output_dir_path = os.path.join(os.getcwd(), 'output')\n",
    "print(output_dir_path)\n",
    "if not os.path.exists(output_dir_path):\n",
    "    os.makedirs(output_dir_path) "
   ]
  },
  {
   "cell_type": "code",
   "execution_count": null,
   "metadata": {},
   "outputs": [],
   "source": [
    "# 出力\n",
    "output_Df.to_csv('output/submission.csv',\n",
    "                 sep=\",\",\n",
    "                 header=True,\n",
    "                 index=False,\n",
    "                 mode=\"w\",\n",
    "                 encoding=\"utf-8\",\n",
    "                 line_terminator=\"\\n\"\n",
    ")"
   ]
  },
  {
   "cell_type": "code",
   "execution_count": null,
   "metadata": {},
   "outputs": [],
   "source": []
  },
  {
   "cell_type": "code",
   "execution_count": null,
   "metadata": {},
   "outputs": [],
   "source": []
  },
  {
   "cell_type": "code",
   "execution_count": null,
   "metadata": {},
   "outputs": [],
   "source": []
  },
  {
   "cell_type": "code",
   "execution_count": null,
   "metadata": {},
   "outputs": [],
   "source": []
  },
  {
   "cell_type": "raw",
   "metadata": {},
   "source": [
    "####################################\n",
    "##### 次元削減(特徴量選択) を使用する\n",
    "##### ↓特徴量選択(LogisticRegression)\n",
    "####################################\n",
    "def getSelectorFeature(inputFeatureDf,y_Df,feature_num, selector_step):\n",
    "    # 特徴量因子の重要度を推定する分類器をRandomForestClassifierに設定\n",
    "    # 最終的に残す特徴量をconfig.iniに定義している\n",
    "    # 0未満 の場合はNoneに設定する。\n",
    "    # 1回のstepで削除する次元数は5%ずつとする\n",
    "    \n",
    "    print(\"特徴量選択数 = \",feature_num)\n",
    "    if(feature_num < 0):\n",
    "        # デフォルト値\n",
    "        print(\"n_features_to_select = None に設定\")\n",
    "        feature_num = None\n",
    "    elif feature_num > len(inputFeatureDf.columns.tolist()):\n",
    "        print (\"feature_num({}) is Over colnum({})\".format(feature_num, len(inputFeatureDf.columns.tolist())))\n",
    "        # 次元削減せずに返却する\n",
    "        return inputFeatureDf\n",
    "    \n",
    "    # 特徴量選択\n",
    "    # step:特徴量削除の速度。一度の再帰処理により指定ステップ分の特徴量が消滅する。\n",
    "    selector = RFE(estimator=LogisticRegression(penalty='l2', C=1.5, random_state=RANDOM_STATE_VAL, max_iter=120,\n",
    "                                           solver='liblinear'),\n",
    "                   n_features_to_select=feature_num,\n",
    "                   step=selector_step)\n",
    "    selector.fit(inputFeatureDf,y_Df.values.ravel())\n",
    "    #selector.fit(inputFeatureDf, y_Df.iloc[:,0])\n",
    "\n",
    "    # 削除対象配列(Falseが削除対象)\n",
    "    selFlagArray = selector.support_\n",
    "    \n",
    "    # 現状のカラム名を取得\n",
    "    columnIndex = inputFeatureDf.columns\n",
    "    \n",
    "    # 削除対象カラム名リスト\n",
    "    drop_column_list = list()\n",
    "    # 削除対象配列 でループ(i=0,1,2,・・・)\n",
    "    print(len(selFlagArray))\n",
    "    for i in range(len(selFlagArray)):\n",
    "        # Falseの場合に、削除対象リストに追加\n",
    "        if(selFlagArray[i] == False):\n",
    "            drop_column_list.append(columnIndex[i])\n",
    "\n",
    "    # 不要な列削除\n",
    "    #print(\"削除対象カラム = \" , drop_column_list)\n",
    "    inputFeatureNewDf = inputFeatureDf.drop(drop_column_list, axis=1)\n",
    "    \n",
    "\n",
    "    return inputFeatureNewDf\n"
   ]
  },
  {
   "cell_type": "code",
   "execution_count": null,
   "metadata": {},
   "outputs": [],
   "source": []
  },
  {
   "cell_type": "code",
   "execution_count": null,
   "metadata": {},
   "outputs": [],
   "source": [
    "########################################################"
   ]
  },
  {
   "cell_type": "code",
   "execution_count": null,
   "metadata": {},
   "outputs": [],
   "source": [
    "raise Exception(\"END♪\")"
   ]
  },
  {
   "cell_type": "code",
   "execution_count": null,
   "metadata": {},
   "outputs": [],
   "source": [
    "########################################################"
   ]
  }
 ],
 "metadata": {
  "kernelspec": {
   "display_name": "Python 3",
   "language": "python",
   "name": "python3"
  },
  "language_info": {
   "codemirror_mode": {
    "name": "ipython",
    "version": 3
   },
   "file_extension": ".py",
   "mimetype": "text/x-python",
   "name": "python",
   "nbconvert_exporter": "python",
   "pygments_lexer": "ipython3",
   "version": "3.7.4"
  }
 },
 "nbformat": 4,
 "nbformat_minor": 2
}
