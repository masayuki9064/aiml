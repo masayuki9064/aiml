{
 "cells": [
  {
   "cell_type": "markdown",
   "metadata": {},
   "source": [
    "# cat-in-the-dat-ii(targetは連続量)"
   ]
  },
  {
   "cell_type": "markdown",
   "metadata": {},
   "source": [
    "# import"
   ]
  },
  {
   "cell_type": "code",
   "execution_count": null,
   "metadata": {},
   "outputs": [],
   "source": [
    "import numpy as np\n",
    "import pandas as pd\n",
    "import tqdm\n",
    "import os\n",
    "from collections import deque\n",
    "\n",
    "import codecs\n",
    "import copy\n",
    "from sklearn.metrics import confusion_matrix\n",
    "import sys\n",
    "from platform import python_version\n",
    "\n",
    "import shutil\n",
    "from sklearn.preprocessing import OneHotEncoder\n",
    "import csv\n",
    "from platform import python_version\n",
    "\n",
    "from sklearn.preprocessing import StandardScaler\n",
    "\n",
    "from sklearn.linear_model import Ridge\n",
    "from sklearn.model_selection import cross_val_score\n",
    "\n"
   ]
  },
  {
   "cell_type": "markdown",
   "metadata": {},
   "source": [
    "# environment"
   ]
  },
  {
   "cell_type": "code",
   "execution_count": null,
   "metadata": {},
   "outputs": [],
   "source": [
    "print(python_version())"
   ]
  },
  {
   "cell_type": "code",
   "execution_count": null,
   "metadata": {},
   "outputs": [],
   "source": [
    "sys.getdefaultencoding()"
   ]
  },
  {
   "cell_type": "code",
   "execution_count": null,
   "metadata": {},
   "outputs": [],
   "source": [
    "%autosave 0"
   ]
  },
  {
   "cell_type": "code",
   "execution_count": null,
   "metadata": {},
   "outputs": [],
   "source": [
    "#最大表示列数の指定（ここでは2000列を指定）\n",
    "pd.set_option('display.max_columns', 2000)"
   ]
  },
  {
   "cell_type": "code",
   "execution_count": null,
   "metadata": {},
   "outputs": [],
   "source": [
    "#最大表示行数の指定（ここでは200行を指定）\n",
    "pd.set_option('display.max_rows', 200)"
   ]
  },
  {
   "cell_type": "markdown",
   "metadata": {},
   "source": [
    "# definition"
   ]
  },
  {
   "cell_type": "code",
   "execution_count": null,
   "metadata": {},
   "outputs": [],
   "source": [
    "### customize define\n",
    "FEATURE_NUM = 90\n",
    "\n",
    "CV_VAL = 10\n"
   ]
  },
  {
   "cell_type": "code",
   "execution_count": null,
   "metadata": {},
   "outputs": [],
   "source": [
    "read_train_path = r\"/Users/masayuki/Documents/data/python_workspace/Kaggle/house_prices_ART/input/train.csv\"\n",
    "\n",
    "read_test_path = r\"/Users/masayuki/Documents/data/python_workspace/Kaggle/house_prices_ART/input/test.csv\"\n",
    "\n",
    "output_dir_path = r\"/Users/masayuki/Documents/data/python_workspace/Kaggle/house_prices_ART/output\"\n",
    "\n",
    "output_file_name = \"submission.csv\"\n",
    "\n",
    "drop_col_name_list =[]\n",
    "\n",
    "# 連続量\n",
    "float_conv_col_name_list = [\n",
    "    \"LotFrontage\",\n",
    "    \"LotArea\",\n",
    "    \"YearBuilt\",\n",
    "    \"YearRemodAdd\",\n",
    "    \"MasVnrArea\",\n",
    "    \"BsmtFinSF1\",\n",
    "    \"BsmtFinSF2\",\n",
    "    \"BsmtUnfSF\",\n",
    "    \"TotalBsmtSF\",\n",
    "    \"1stFlrSF\",\n",
    "    \"2ndFlrSF\",\n",
    "    \"LowQualFinSF\",\n",
    "    \"GrLivArea\",\n",
    "    \"GarageYrBlt\",\n",
    "    \"GarageCars\",\n",
    "    \"GarageArea\",\n",
    "    \"WoodDeckSF\",\n",
    "    \"OpenPorchSF\",\n",
    "    \"EnclosedPorch\",\n",
    "    \"3SsnPorch\",\n",
    "    \"ScreenPorch\",\n",
    "    \"PoolArea\",\n",
    "    \"MiscVal\",\n",
    "    \"MoSold\",\n",
    "    \"YrSold\"\n",
    "]\n",
    "\n",
    "# ↓にない連続量は0で初期化する。\n",
    "float_nan_conv_dic ={\n",
    "    # name: [min, max]\n",
    "    \"YearBuilt\": [1872,  2010],\n",
    "    \"YearRemodAdd\": [1950, 2010],\n",
    "    \"GarageYrBlt\": [1900, 2010],\n",
    "    \"YrSold\": [2006, 2010],\n",
    "}\n",
    "\n",
    "id_col_name=\"Id\"\n",
    "target_col_name = \"SalePrice\"\n",
    "\n",
    "RANDOM_STATE_VAL = 0\n"
   ]
  },
  {
   "cell_type": "markdown",
   "metadata": {},
   "source": [
    "# function"
   ]
  },
  {
   "cell_type": "code",
   "execution_count": null,
   "metadata": {},
   "outputs": [],
   "source": [
    "def dispalyDf(readDf, dispFlag, row_num, dispLabel):\n",
    "    print(\"========================= {} =========================\".format(dispLabel))\n",
    "    row_num , col_num = np.shape(readDf)\n",
    "    print(\"row_num = {}, col_num = {}\".format(row_num, col_num))\n",
    "    if dispFlag:\n",
    "        display(readDf.head(row_num))\n",
    "    print(\"++++++ None Count All++++++\")\n",
    "    print(readDf.isnull().values.sum())\n",
    "    print(\"++++++ None Count ++++++\")\n",
    "    print(readDf.isnull().sum())\n",
    "    print(\"++++++ Col Type ++++++\")\n",
    "    print(readDf.dtypes)\n",
    "#     print(\"++++++ Unique By Col（Noneは含まないので注意） ++++++\")\n",
    "#     for col_name in readDf.columns.tolist():\n",
    "#         print(\"{} : {}\".format(col_name, readDf[col_name].nunique()))\n",
    "    \n",
    "\n",
    "    "
   ]
  },
  {
   "cell_type": "code",
   "execution_count": null,
   "metadata": {},
   "outputs": [],
   "source": [
    "def chkNum(expect_label, expect_num, act_label, act_num):\n",
    "    if expect_num != act_num:\n",
    "        raise Exception(\"Num Error !! expect({}): {}, act({}) : {}\"\n",
    "                        .format(expect_label, expect_num, act_label, act_num))\n",
    "    "
   ]
  },
  {
   "cell_type": "code",
   "execution_count": null,
   "metadata": {},
   "outputs": [],
   "source": [
    "def standardScalerDf(inputDf):\n",
    "    row_num, col_num = np.shape(inputDf)\n",
    "    \n",
    "    # 平準化\n",
    "    scaler = StandardScaler()\n",
    "    val_array = scaler.fit_transform(np.array(inputDf.values.tolist()))\n",
    "    standardScDf = pd.DataFrame(val_array, dtype=np.float, columns = inputDf.columns.tolist())\n",
    "    \n",
    "    sc_row_num, sc_col_num = np.shape(standardScDf)\n",
    "\n",
    "    # 行数チェック\n",
    "    chkNum(\"expect_row_num\", row_num, \"sc_row_num\", sc_row_num)\n",
    "    # 列数チェック\n",
    "    chkNum(\"expect_col_num\", col_num, \"sc_col_num\", sc_col_num)\n",
    "\n",
    "    \n",
    "    del val_array\n",
    "    return standardScDf\n"
   ]
  },
  {
   "cell_type": "code",
   "execution_count": null,
   "metadata": {},
   "outputs": [],
   "source": [
    "# test用のカラムのDataFrame\n",
    "def getAdjustTestColDf(inputDf, train_col_list):\n",
    "    not_enough_col_list = set(train_col_list) - set(inputDf.columns.tolist())\n",
    "    print(\"# trainに有ってtestにないカラム名のリスト\")\n",
    "    print(\"{} : {}\".format(len(not_enough_col_list), not_enough_col_list))\n",
    "        \n",
    "    dataLen = len(inputDf)\n",
    "        \n",
    "    retDf = inputDf.join(\n",
    "        pd.DataFrame({col_name : [0]*dataLen  for col_name  in not_enough_col_list },\n",
    "                     dtype=np.float, columns=not_enough_col_list)\n",
    "    ).loc[:, train_col_list]\n",
    "    \n",
    "    # カラムリストが一致するかチェック\n",
    "    if retDf.columns.tolist() != train_col_list:\n",
    "        raise Exception(\"col_name_list not Match train and test.\")\n",
    "\n",
    "    # データ行数が一致するかチェック\n",
    "    chkNum(\"dataLen\", dataLen, \"retDf\", len(retDf))\n",
    "\n",
    "    return retDf"
   ]
  },
  {
   "cell_type": "code",
   "execution_count": null,
   "metadata": {},
   "outputs": [],
   "source": []
  },
  {
   "cell_type": "code",
   "execution_count": null,
   "metadata": {},
   "outputs": [],
   "source": [
    "####################################\n",
    "##### 次元削減(特徴量選択) を使用する\n",
    "##### ↓特徴量選択(Ridge)\n",
    "####################################\n",
    "def getSelectorFeature(inputFeatureDf,y_Df,feature_num):\n",
    "    \n",
    "    # カラム名のリスト\n",
    "    col_name_list = inputFeatureDf.columns.tolist()\n",
    "    \n",
    "    \n",
    "    print(\"特徴量選択数 = \",feature_num)\n",
    "    if(feature_num < 0):\n",
    "        # デフォルト値\n",
    "        print(\"n_features_to_select = None に設定\")\n",
    "        feature_num = None\n",
    "    elif feature_num > len(col_name_list):\n",
    "        raise Exception(\"feature_num({}) is Over colnum({})\".format(feature_num, len(inputFeatureDf.columns.tolist())))\n",
    "    \n",
    "    ridge = Ridge(random_state=RANDOM_STATE_VAL)\n",
    "    ridge.fit(inputFeatureDf, y_Df.values.ravel())\n",
    "    \n",
    "    \n",
    "    coefDf = pd.DataFrame({\n",
    "        \"col_name\": col_name_list,\n",
    "        \"coef_\": ridge.coef_\n",
    "    },dtype=object)\n",
    "    \n",
    "    # floatにカラム型変換\n",
    "    coefDf[\"coef_\"] = coefDf[\"coef_\"].astype(np.float)\n",
    "\n",
    "    # coef_のランクをつける\n",
    "    coefDf['順位'] = (coefDf.rank(method='min',ascending=False)[\"coef_\"]).astype('int')\n",
    "    #coefDf = coefDf.sort_values('順位', ascending=True)\n",
    "\n",
    "    \n",
    "    coefDf = coefDf[coefDf[\"順位\"] <= feature_num]\n",
    "    \n",
    "    inputFeatureNewDf = inputFeatureDf.loc[:,  coefDf[\"col_name\"].values.tolist() ]\n",
    "\n",
    "    return inputFeatureNewDf\n"
   ]
  },
  {
   "cell_type": "code",
   "execution_count": null,
   "metadata": {},
   "outputs": [],
   "source": [
    "# 前処理関数\n",
    "def getBeforeProcessDf(inputDf, drop_col_name_list, float_conv_col_name_list, train_Flg, train_target_Df ,\n",
    "                       random_state_val, feature_num, train_col_list):\n",
    "    # inputをコピーしておく\n",
    "    convDf = inputDf.copy()\n",
    "    \n",
    "    # 列削除\n",
    "    convDf = convDf.drop(drop_col_name_list, axis=1)\n",
    "    \n",
    "    # カラム名リスト保持\n",
    "    col_list = convDf.columns.tolist()\n",
    "\n",
    "    # 連続値のカラムの欠損値補完\n",
    "    float_conv_dic={}\n",
    "    for col_name in float_conv_col_name_list:\n",
    "        # floatにカラム型変換\n",
    "        convDf[col_name] = convDf[col_name].astype(np.float)\n",
    "        \n",
    "        conv_list = \\\n",
    "        [(\n",
    "            np.random.randint(\n",
    "                float_nan_conv_dic[col_name][0],\n",
    "                float_nan_conv_dic[col_name][1])\n",
    "            if col_name in float_nan_conv_dic else 0\n",
    "        if np.isnan(elem) else elem )\n",
    "         for elem in convDf[col_name].values.tolist()]\n",
    "        \n",
    "        float_conv_dic[col_name]=conv_list\n",
    "    ###\n",
    "    \n",
    "    float_conv_df = pd.DataFrame(float_conv_dic,dtype=np.float)\n",
    "    \n",
    "    #dispalyDf(float_conv_df, True, 5,  \"float_conv_df\")\n",
    "    \n",
    "    col_list_except_float = [col_name for col_name in col_list \n",
    "                             if col_name not in float_conv_col_name_list]\n",
    "    \n",
    "    del conv_list\n",
    "    # float以外のDataFrameを抽出\n",
    "    convDf = convDf.loc[:,col_list_except_float]\n",
    "    \n",
    "    # NaNも一つのカテゴリーとしてダミー変数化したい場合は、引数dummy_na=Trueとする。\n",
    "    convDf = pd.get_dummies(convDf, dummy_na=True, columns=col_list_except_float)\n",
    "    \n",
    "\n",
    "    #  全ての特徴量\n",
    "    allFeatureDf = convDf.join(float_conv_df)\n",
    "\n",
    "    if train_Flg:\n",
    "        # trainの場合\n",
    "        # 標準化\n",
    "        allFeatureDf =  standardScalerDf(allFeatureDf)\n",
    "\n",
    "        # Ridge で特徴量選択を行う。\n",
    "        retFeatureDf = getSelectorFeature(allFeatureDf,  train_target_Df, feature_num)\n",
    "        \n",
    "        \n",
    "    else:\n",
    "        # testの場合\n",
    "        # カラムをtrainと合わせる\n",
    "        testFeatureDf = getAdjustTestColDf(allFeatureDf, train_col_list)\n",
    "        # 標準化\n",
    "        retFeatureDf =  standardScalerDf(testFeatureDf)\n",
    "        \n",
    "    \n",
    "    return retFeatureDf"
   ]
  },
  {
   "cell_type": "code",
   "execution_count": null,
   "metadata": {},
   "outputs": [],
   "source": []
  },
  {
   "cell_type": "code",
   "execution_count": null,
   "metadata": {},
   "outputs": [],
   "source": [
    "# モデル入手\n",
    "def getModel(train_Df, y_train_Df, random_state_val, cv_val):\n",
    "    ridge = Ridge(random_state=random_state_val)\n",
    "    ridge.fit(train_Df, y_train_Df.values.ravel())\n",
    "\n",
    "    cv_results = cross_val_score(ridge,\n",
    "                             train_Df,\n",
    "                             y_train_Df.values.ravel(),      #1次元のARRAY\n",
    "                             cv=cv_val,\n",
    "                             scoring='r2')\n",
    "    print(cv_results)\n",
    "\n",
    "    return ridge\n"
   ]
  },
  {
   "cell_type": "code",
   "execution_count": null,
   "metadata": {},
   "outputs": [],
   "source": []
  },
  {
   "cell_type": "code",
   "execution_count": null,
   "metadata": {},
   "outputs": [],
   "source": [
    "# 予測\n",
    "def getPredictDf(model, test_Df, id_Df , target_col_name):\n",
    "    return id_Df.join(\n",
    "        pd.DataFrame(model.predict(test_Df), dtype=np.float, columns=[target_col_name]))"
   ]
  },
  {
   "cell_type": "markdown",
   "metadata": {},
   "source": [
    "# process"
   ]
  },
  {
   "cell_type": "code",
   "execution_count": null,
   "metadata": {},
   "outputs": [],
   "source": [
    "# ファイル読み込み(train)\n",
    "train_read_Df = pd.read_csv(read_train_path,\n",
    "                            header=0,\n",
    "                            encoding=\"utf-8\",\n",
    "                            sep='\\n',\n",
    "                            delimiter=',',\n",
    "                            engine='python',\n",
    "                            dtype=object)\n"
   ]
  },
  {
   "cell_type": "code",
   "execution_count": null,
   "metadata": {},
   "outputs": [],
   "source": [
    "# ファイル読み込み(test)\n",
    "test_read_Df = pd.read_csv(read_test_path,\n",
    "                           header=0,\n",
    "                           encoding=\"utf-8\",\n",
    "                           sep='\\n',\n",
    "                           delimiter=',',\n",
    "                           engine='python',\n",
    "                           dtype=object)\n"
   ]
  },
  {
   "cell_type": "code",
   "execution_count": null,
   "metadata": {},
   "outputs": [],
   "source": [
    "######################################"
   ]
  },
  {
   "cell_type": "code",
   "execution_count": null,
   "metadata": {},
   "outputs": [],
   "source": [
    "trainDf = train_read_Df.copy()\n",
    "trainDf[target_col_name]=trainDf[target_col_name].astype(np.float)\n",
    "testDf = test_read_Df.copy()"
   ]
  },
  {
   "cell_type": "code",
   "execution_count": null,
   "metadata": {
    "scrolled": false
   },
   "outputs": [],
   "source": [
    "dispalyDf(trainDf, True, 5,  \"trainDf\")"
   ]
  },
  {
   "cell_type": "code",
   "execution_count": null,
   "metadata": {},
   "outputs": [],
   "source": [
    "dispalyDf(testDf, True, 5,  \"testDf\")"
   ]
  },
  {
   "cell_type": "code",
   "execution_count": null,
   "metadata": {},
   "outputs": [],
   "source": [
    "# カラムの差分\n",
    "set(trainDf.columns.tolist()) - set(testDf.columns.tolist())"
   ]
  },
  {
   "cell_type": "code",
   "execution_count": null,
   "metadata": {},
   "outputs": [],
   "source": [
    "#################"
   ]
  },
  {
   "cell_type": "code",
   "execution_count": null,
   "metadata": {},
   "outputs": [],
   "source": [
    "# train:データのDataFrameと、ターゲットのデータフレームに分ける。\n",
    "train_target_Df = trainDf.loc[:,[target_col_name]]\n",
    "trainDf = trainDf.loc[:,[col_name for col_name in trainDf.columns.tolist() if col_name not in [id_col_name,target_col_name]]]"
   ]
  },
  {
   "cell_type": "code",
   "execution_count": null,
   "metadata": {},
   "outputs": [],
   "source": [
    "#dispalyDf(train_target_Df, True, 5,  \"train_target_Df\")"
   ]
  },
  {
   "cell_type": "code",
   "execution_count": null,
   "metadata": {},
   "outputs": [],
   "source": [
    "#dispalyDf(trainDf, True, 5,  \"trainDf\")"
   ]
  },
  {
   "cell_type": "code",
   "execution_count": null,
   "metadata": {},
   "outputs": [],
   "source": []
  },
  {
   "cell_type": "code",
   "execution_count": null,
   "metadata": {},
   "outputs": [],
   "source": [
    "# test:idとデータのDataFrameを抽出。\n",
    "test_id_Df = testDf.loc[:,[id_col_name]]\n",
    "testDf = testDf.loc[:,[col_name for col_name in testDf.columns.tolist() if col_name != id_col_name]]"
   ]
  },
  {
   "cell_type": "code",
   "execution_count": null,
   "metadata": {},
   "outputs": [],
   "source": [
    "#dispalyDf(test_id_Df, True, 5,  \"test_id_Df\")"
   ]
  },
  {
   "cell_type": "code",
   "execution_count": null,
   "metadata": {},
   "outputs": [],
   "source": [
    "#dispalyDf(testDf, True, 5,  \"testDf\")"
   ]
  },
  {
   "cell_type": "code",
   "execution_count": null,
   "metadata": {},
   "outputs": [],
   "source": []
  },
  {
   "cell_type": "code",
   "execution_count": null,
   "metadata": {},
   "outputs": [],
   "source": []
  },
  {
   "cell_type": "code",
   "execution_count": null,
   "metadata": {},
   "outputs": [],
   "source": []
  },
  {
   "cell_type": "code",
   "execution_count": null,
   "metadata": {
    "scrolled": false
   },
   "outputs": [],
   "source": [
    "#### train のデータ前処理\n",
    "train_new_Df = getBeforeProcessDf(\n",
    "    trainDf, drop_col_name_list, float_conv_col_name_list, True , train_target_Df,\n",
    "    RANDOM_STATE_VAL, FEATURE_NUM, None)\n"
   ]
  },
  {
   "cell_type": "code",
   "execution_count": null,
   "metadata": {
    "scrolled": false
   },
   "outputs": [],
   "source": [
    "dispalyDf(train_new_Df, True, 5,  \"train_new_Df\")"
   ]
  },
  {
   "cell_type": "code",
   "execution_count": null,
   "metadata": {},
   "outputs": [],
   "source": []
  },
  {
   "cell_type": "code",
   "execution_count": null,
   "metadata": {},
   "outputs": [],
   "source": [
    "#### test のデータ前処理\n",
    "test_new_Df= getBeforeProcessDf(\n",
    "    testDf, drop_col_name_list, float_conv_col_name_list, False , None,\n",
    "    None, None, train_new_Df.columns.tolist())\n"
   ]
  },
  {
   "cell_type": "code",
   "execution_count": null,
   "metadata": {},
   "outputs": [],
   "source": [
    "dispalyDf(test_new_Df, True, 5,  \"test_new_Df\")"
   ]
  },
  {
   "cell_type": "code",
   "execution_count": null,
   "metadata": {},
   "outputs": [],
   "source": []
  },
  {
   "cell_type": "code",
   "execution_count": null,
   "metadata": {},
   "outputs": [],
   "source": []
  },
  {
   "cell_type": "code",
   "execution_count": null,
   "metadata": {},
   "outputs": [],
   "source": [
    "###########"
   ]
  },
  {
   "cell_type": "code",
   "execution_count": null,
   "metadata": {},
   "outputs": [],
   "source": [
    "# モデル入手\n",
    "model = getModel(train_new_Df, train_target_Df, RANDOM_STATE_VAL, CV_VAL)"
   ]
  },
  {
   "cell_type": "code",
   "execution_count": null,
   "metadata": {},
   "outputs": [],
   "source": [
    "# 予測\n",
    "resultDf = getPredictDf(model, test_new_Df, test_id_Df , target_col_name)\n"
   ]
  },
  {
   "cell_type": "code",
   "execution_count": null,
   "metadata": {},
   "outputs": [],
   "source": [
    "dispalyDf(resultDf, True, 5,  \"resultDf\")"
   ]
  },
  {
   "cell_type": "code",
   "execution_count": null,
   "metadata": {},
   "outputs": [],
   "source": []
  },
  {
   "cell_type": "code",
   "execution_count": null,
   "metadata": {},
   "outputs": [],
   "source": [
    "# ディレクトリなければ作る\n",
    "if not os.path.exists(output_dir_path):\n",
    "    os.makedirs(output_dir_path) "
   ]
  },
  {
   "cell_type": "code",
   "execution_count": null,
   "metadata": {},
   "outputs": [],
   "source": [
    "ouput_file_path = os.path.join(output_dir_path, output_file_name)\n",
    "print(ouput_file_path)"
   ]
  },
  {
   "cell_type": "code",
   "execution_count": null,
   "metadata": {},
   "outputs": [],
   "source": [
    "# ファイル出力\n",
    "resultDf.to_csv(ouput_file_path,\n",
    "               sep=\",\",\n",
    "                header=True,\n",
    "                index=False,\n",
    "                mode=\"w\",\n",
    "                encoding=\"utf-8\",\n",
    "                line_terminator=\"\\n\"\n",
    "               )\n"
   ]
  },
  {
   "cell_type": "code",
   "execution_count": null,
   "metadata": {},
   "outputs": [],
   "source": []
  },
  {
   "cell_type": "code",
   "execution_count": null,
   "metadata": {},
   "outputs": [],
   "source": []
  },
  {
   "cell_type": "code",
   "execution_count": null,
   "metadata": {},
   "outputs": [],
   "source": [
    "raise Exception(\"EEEEEEEEEEEEEEEEEEEEEE\")"
   ]
  }
 ],
 "metadata": {
  "kernelspec": {
   "display_name": "Python 3",
   "language": "python",
   "name": "python3"
  },
  "language_info": {
   "codemirror_mode": {
    "name": "ipython",
    "version": 3
   },
   "file_extension": ".py",
   "mimetype": "text/x-python",
   "name": "python",
   "nbconvert_exporter": "python",
   "pygments_lexer": "ipython3",
   "version": "3.7.4"
  }
 },
 "nbformat": 4,
 "nbformat_minor": 2
}
